{
 "cells": [
  {
   "cell_type": "code",
   "execution_count": 11,
   "outputs": [],
   "source": [
    "import json\n",
    "import pandas as pd\n",
    "import numpy as np\n",
    "\n",
    "datafile = \"data/4815902510002BY_AR15J015457-20201116-171959-9852/AR15J015457-20201116-171959-9852.json\"\n",
    "data = {}"
   ],
   "metadata": {
    "collapsed": false,
    "pycharm": {
     "name": "#%%\n"
    }
   }
  },
  {
   "cell_type": "code",
   "execution_count": 12,
   "outputs": [
    {
     "name": "stdout",
     "output_type": "stream",
     "text": [
      "FullDisclosureRecord contains 21671 items:\n",
      "\n",
      "             NewCase      2\n",
      "        Ecg12LeadRec      4\n",
      "       AnnotationEvt   2507\n",
      "            TrendRpt    145\n",
      " DeviceConfiguration      1\n",
      "        DataChannels      1\n",
      "         PatientInfo      1\n",
      "         AlarmLimits      1\n",
      "        TraceConfigs      9\n",
      "                 Aed     11\n",
      "       DeleteCaseRec      1\n",
      "         DisplayInfo      8\n",
      "       ContinWaveRec   1061\n",
      "     CprAccelWaveRec   1449\n",
      "      CprCompression   1342\n",
      "   AedContinAnalysis    954\n",
      "            AlarmEvt     12\n",
      "         SnapshotRpt      9\n",
      "    InstrumentPacket     17\n",
      "         SysLogEntry   3884\n",
      "       Ecg12LeadDisc      4\n",
      "  ReadinessLogRecord    246\n",
      "         CaseSummary      2\n",
      "          DefibTrace   7971\n",
      "            PrtTrace   2029\n",
      "\n",
      "\n",
      "1061 ContinWaveRec items found.\n",
      "145 TrendRpt items found.\n"
     ]
    }
   ],
   "source": [
    "# Code übernommen von Simo Mäkelä https://github.com/makes/zoll-json/blob/master/zoll-json.ipynb\n",
    "\n",
    "with open(datafile, \"r\") as fd:\n",
    "    data = json.load(fd)\n",
    "\n",
    "zoll_record = data['ZOLL']['FullDisclosure'][0]['FullDisclosureRecord']\n",
    "\n",
    "#record_types: dictionary mit Auflistung Anzahl der Items für jeweiligen Recording Typ\n",
    "record_types = {}\n",
    "n_items = 0\n",
    "\n",
    "for item in zoll_record:\n",
    "    n_items = n_items + 1\n",
    "    for key in item:\n",
    "        if key in record_types:\n",
    "            record_types[key] = record_types[key] + 1\n",
    "        else:\n",
    "            record_types[key] = 1\n",
    "\n",
    "print(\"FullDisclosureRecord contains\", n_items, \"items:\\n\")\n",
    "for key, value in record_types.items():\n",
    "    print(\"{: >20} {: >6}\".format(key, value))\n",
    "\n",
    "wave_records = [] # contains objects of type ContinWaveRec\n",
    "trend_reports = [] # contains objects of type TrendRpt\n",
    "\n",
    "for item in zoll_record:\n",
    "    for key in item:\n",
    "        if key == \"ContinWaveRec\":\n",
    "            wave_records.append(item['ContinWaveRec'])\n",
    "        if key == \"TrendRpt\":\n",
    "            trend_reports.append(item['TrendRpt'])\n",
    "print(\"\\n\")\n",
    "print(len(wave_records), \"ContinWaveRec items found.\")\n",
    "print(len(trend_reports), \"TrendRpt items found.\")"
   ],
   "metadata": {
    "collapsed": false,
    "pycharm": {
     "name": "#%%\n"
    }
   }
  },
  {
   "cell_type": "code",
   "execution_count": 13,
   "outputs": [
    {
     "data": {
      "text/plain": "<Figure size 432x288 with 1 Axes>",
      "image/png": "[encoded data removed]"
     },
     "metadata": {
      "needs_background": "light"
     },
     "output_type": "display_data"
    }
   ],
   "source": [
    "etco2 = []\n",
    "timestamps = []\n",
    "\n",
    "for report in trend_reports:\n",
    "    etco2.append(report['Trend']['Etco2']['TrendData']['Val']['#text'])\n",
    "    timestamps.append(pd.to_datetime(report['StdHdr']['DevDateTime']))\n",
    "\n",
    "df = pd.DataFrame(etco2, columns=['etCO2'])\n",
    "df.index = timestamps\n",
    "\n",
    "df = df.replace({\n",
    "    \"etCO2\":-21846,\n",
    "    }, np.nan)\n",
    "\n",
    "df['etCO2'].plot()\n",
    "plt.show()"
   ],
   "metadata": {
    "collapsed": false,
    "pycharm": {
     "name": "#%%\n"
    }
   }
  },
  {
   "cell_type": "code",
   "execution_count": 13,
   "outputs": [],
   "source": [],
   "metadata": {
    "collapsed": false,
    "pycharm": {
     "name": "#%%\n"
    }
   }
  }
 ],
 "metadata": {
  "kernelspec": {
   "display_name": "Python 3",
   "language": "python",
   "name": "python3"
  },
  "language_info": {
   "codemirror_mode": {
    "name": "ipython",
    "version": 2
   },
   "file_extension": ".py",
   "mimetype": "text/x-python",
   "name": "python",
   "nbconvert_exporter": "python",
   "pygments_lexer": "ipython2",
   "version": "2.7.6"
  }
 },
 "nbformat": 4,
 "nbformat_minor": 0
}